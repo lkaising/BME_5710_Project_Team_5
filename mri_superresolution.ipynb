{
  "cells": [
    {
      "cell_type": "markdown",
      "metadata": {},
      "source": [
        "# MRI Super\u2011Resolution Pipeline\n",
        "Welcome \u2013 edit the YAML in the left sidebar, then run sections in order."
      ]
    },
    {
      "cell_type": "code",
      "metadata": {},
      "execution_count": null,
      "outputs": [],
      "source": [
        "# Environment\n",
        "import torch, matplotlib.pyplot as plt"
      ]
    },
    {
      "cell_type": "code",
      "metadata": {},
      "execution_count": null,
      "outputs": [],
      "source": [
        "from config import Config\n",
        "CFG = Config.load('configs/experiments/bicubic_baseline.yaml')\n",
        "CFG"
      ]
    },
    {
      "cell_type": "markdown",
      "metadata": {},
      "source": [
        "## Data exploration"
      ]
    }
  ],
  "metadata": {
    "kernelspec": {
      "display_name": "Python 3",
      "language": "python",
      "name": "python3"
    },
    "language_info": {
      "name": "python",
      "version": "3.10"
    }
  },
  "nbformat": 4,
  "nbformat_minor": 5
}